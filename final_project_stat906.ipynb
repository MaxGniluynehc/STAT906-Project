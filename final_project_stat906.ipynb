{
 "cells": [
  {
   "cell_type": "code",
   "execution_count": 1,
   "id": "928188a2",
   "metadata": {},
   "outputs": [],
   "source": [
    "import torch\n",
    "import torch.nn as nn\n",
    "import numpy as np\n",
    "from torch import Tensor"
   ]
  },
  {
   "cell_type": "code",
   "execution_count": null,
   "id": "e68f6763",
   "metadata": {},
   "outputs": [],
   "source": [
    "# input shape: batch size * policies * number of pnls * pnl size\n",
    "\n",
    "class NeuralSort (torch.nn.Module):\n",
    "    def __init__(self, tau=1.0, device=\"cuda\"):\n",
    "        super(NeuralSort, self).__init__()\n",
    "        self.device = device\n",
    "        self.tau = tau\n",
    "\n",
    "    def forward(self, scores: Tensor):\n",
    "\n",
    "        init_size = scores.size()\n",
    "        bsize = scores.size()[0]\n",
    "        scores = scores.reshape(bsize,-1,1)\n",
    "        scores = scores.unsqueeze(-1)\n",
    "        dim = scores.size()[1]\n",
    "        one = torch.FloatTensor(dim, 1).fill_(1).to(self.device)\n",
    "\n",
    "        A_scores = torch.abs(scores - scores.permute(0, 2, 1))\n",
    "        B = torch.matmul(A_scores, torch.matmul(\n",
    "            one, torch.transpose(one, 0, 1)))\n",
    "        scaling = (dim + 1 - 2 * (torch.arange(dim) + 1)).type(torch.FloatTensor).to(self.device)\n",
    "        C = torch.matmul(scores, scaling.unsqueeze(0))\n",
    "\n",
    "        P_max = (C-B).permute(0, 2, 1)\n",
    "        sm = torch.nn.Softmax(-1)\n",
    "        P_hat = sm(P_max / self.tau)\n",
    "        \n",
    "        P_hat = P_hat.reshape(init_size)\n",
    "\n",
    "        return P_hat\n",
    "    \n",
    "class Discriminator(nn.Module):\n",
    "    \"\"\"Discrimnator: 1 to 1 Causal temporal convolutional network with skip connections.\n",
    "       This network uses 1D convolutions in order to model multiple timeseries co-dependency.\n",
    "    \"\"\" \n",
    "    def __init__(self,pnl_size,device=\"cuda\"):\n",
    "        super(Discriminator, self).__init__()\n",
    "                    \n",
    "        self.neural_sort = NeuralSort(tau=1.0, device)\n",
    "        self.dense1 = nn.Linear(pnl_size,pnl_size)  \n",
    "        self.dense2 = nn.Linear(pnl_size,2)  \n",
    "        \n",
    "        self.sigmoid = nn.Sigmoid()\n",
    "        \n",
    "\n",
    "    def forward(self, x):\n",
    "        x = torch.matmul(self.neural_sort(x),x)\n",
    "        x = self.dense2(self.dense1(x))\n",
    "        x = self.sigmoid(x)\n",
    "                    \n",
    "        return x\n",
    "\n"
   ]
  }
 ],
 "metadata": {
  "kernelspec": {
   "display_name": "Python 3",
   "language": "python",
   "name": "python3"
  },
  "language_info": {
   "codemirror_mode": {
    "name": "ipython",
    "version": 3
   },
   "file_extension": ".py",
   "mimetype": "text/x-python",
   "name": "python",
   "nbconvert_exporter": "python",
   "pygments_lexer": "ipython3",
   "version": "3.8.8"
  }
 },
 "nbformat": 4,
 "nbformat_minor": 5
}
